{
  "nbformat": 4,
  "nbformat_minor": 0,
  "metadata": {
    "colab": {
      "name": "window-valence-classifier.ipynb",
      "provenance": [],
      "include_colab_link": true
    },
    "kernelspec": {
      "name": "python3",
      "display_name": "Python 3"
    },
    "accelerator": "GPU"
  },
  "cells": [
    {
      "cell_type": "markdown",
      "metadata": {
        "id": "view-in-github",
        "colab_type": "text"
      },
      "source": [
        "<a href=\"https://colab.research.google.com/github/chen-qian-dan/Fellow/blob/master/window_valence_classifier.ipynb\" target=\"_parent\"><img src=\"https://colab.research.google.com/assets/colab-badge.svg\" alt=\"Open In Colab\"/></a>"
      ]
    },
    {
      "cell_type": "code",
      "metadata": {
        "id": "kiUIgdf-tjp2",
        "colab_type": "code",
        "colab": {
          "base_uri": "https://localhost:8080/",
          "height": 34
        },
        "outputId": "9ad4248e-0092-47d7-d4d8-a224f1870f48"
      },
      "source": [
        "!pwd"
      ],
      "execution_count": 3,
      "outputs": [
        {
          "output_type": "stream",
          "text": [
            "/content\n"
          ],
          "name": "stdout"
        }
      ]
    },
    {
      "cell_type": "code",
      "metadata": {
        "id": "tSEG2ud0WV2r",
        "colab_type": "code",
        "colab": {
          "base_uri": "https://localhost:8080/",
          "height": 122
        },
        "outputId": "1ec3560a-efb1-41d2-e834-e99fa7144dc5"
      },
      "source": [
        "from google.colab import drive\n",
        "drive.mount('/content/drive')"
      ],
      "execution_count": 2,
      "outputs": [
        {
          "output_type": "stream",
          "text": [
            "Go to this URL in a browser: https://accounts.google.com/o/oauth2/auth?client_id=947318989803-6bn6qk8qdgf4n4g3pfee6491hc0brc4i.apps.googleusercontent.com&redirect_uri=urn%3Aietf%3Awg%3Aoauth%3A2.0%3Aoob&scope=email%20https%3A%2F%2Fwww.googleapis.com%2Fauth%2Fdocs.test%20https%3A%2F%2Fwww.googleapis.com%2Fauth%2Fdrive%20https%3A%2F%2Fwww.googleapis.com%2Fauth%2Fdrive.photos.readonly%20https%3A%2F%2Fwww.googleapis.com%2Fauth%2Fpeopleapi.readonly&response_type=code\n",
            "\n",
            "Enter your authorization code:\n",
            "··········\n",
            "Mounted at /content/drive\n"
          ],
          "name": "stdout"
        }
      ]
    },
    {
      "cell_type": "code",
      "metadata": {
        "id": "afCGGLboWRHd",
        "colab_type": "code",
        "colab": {}
      },
      "source": [
        "# Every notebook starts with these following 3 lines; \n",
        "# They ensue that any edits to libraries you make are reloaded here automatcially, \n",
        "# and also that any charts or images displayed are shown in this notebook; \n",
        "%reload_ext autoreload\n",
        "%autoreload 2\n",
        "%matplotlib inline"
      ],
      "execution_count": 0,
      "outputs": []
    },
    {
      "cell_type": "code",
      "metadata": {
        "id": "ScTGVsHlWuNL",
        "colab_type": "code",
        "colab": {}
      },
      "source": [
        "# Import packages;\n",
        "from fastai.vision import *\n",
        "from fastai.metrics import error_rate"
      ],
      "execution_count": 0,
      "outputs": []
    },
    {
      "cell_type": "code",
      "metadata": {
        "id": "2GhVvg3aWzD2",
        "colab_type": "code",
        "colab": {}
      },
      "source": [
        "# If you are using a computer with an unusually small GPU, \n",
        "# you may get an out of memory error when running notebooks. \n",
        "# If this happens, use the second line; \n",
        "#bs = 64\n",
        "bs = 16"
      ],
      "execution_count": 0,
      "outputs": []
    },
    {
      "cell_type": "code",
      "metadata": {
        "id": "EL4SxP9AW446",
        "colab_type": "code",
        "colab": {}
      },
      "source": [
        "path = Path(\"/content/drive/My Drive/QC_FellowshipAI/window_valences/\")"
      ],
      "execution_count": 0,
      "outputs": []
    },
    {
      "cell_type": "code",
      "metadata": {
        "id": "6SX3qMuaXFx_",
        "colab_type": "code",
        "colab": {
          "base_uri": "https://localhost:8080/",
          "height": 68
        },
        "outputId": "7b22193c-ca2e-4cc5-8f78-df48727c4063"
      },
      "source": [
        "path.ls()"
      ],
      "execution_count": 7,
      "outputs": [
        {
          "output_type": "execute_result",
          "data": {
            "text/plain": [
              "[PosixPath('/content/drive/My Drive/QC_FellowshipAI/window_valences/no_window_valences'),\n",
              " PosixPath('/content/drive/My Drive/QC_FellowshipAI/window_valences/window_valences'),\n",
              " PosixPath('/content/drive/My Drive/QC_FellowshipAI/window_valences/models')]"
            ]
          },
          "metadata": {
            "tags": []
          },
          "execution_count": 7
        }
      ]
    },
    {
      "cell_type": "code",
      "metadata": {
        "id": "J05Kx74IXLI1",
        "colab_type": "code",
        "colab": {}
      },
      "source": [
        "path_valence = path/\"window_valences\"\n",
        "path_noValence = path/\"no_window_valences\""
      ],
      "execution_count": 0,
      "outputs": []
    },
    {
      "cell_type": "code",
      "metadata": {
        "id": "ecspyHPLXO9N",
        "colab_type": "code",
        "colab": {
          "base_uri": "https://localhost:8080/",
          "height": 102
        },
        "outputId": "0c1ddc99-e4d8-40ef-9b71-0c3c8816c72f"
      },
      "source": [
        "# Have a look at the data; \n",
        "fnames = get_image_files(path_valence)\n",
        "fnames[:5]"
      ],
      "execution_count": 9,
      "outputs": [
        {
          "output_type": "execute_result",
          "data": {
            "text/plain": [
              "[PosixPath('/content/drive/My Drive/QC_FellowshipAI/window_valences/window_valences/no_window_valences_39.jpg'),\n",
              " PosixPath('/content/drive/My Drive/QC_FellowshipAI/window_valences/window_valences/no_window_valences_670.jpg'),\n",
              " PosixPath('/content/drive/My Drive/QC_FellowshipAI/window_valences/window_valences/no_window_valences_499.jpg'),\n",
              " PosixPath('/content/drive/My Drive/QC_FellowshipAI/window_valences/window_valences/no_window_valences_472.jpg'),\n",
              " PosixPath('/content/drive/My Drive/QC_FellowshipAI/window_valences/window_valences/no_window_valences_664.jpg')]"
            ]
          },
          "metadata": {
            "tags": []
          },
          "execution_count": 9
        }
      ]
    }
  ]
}